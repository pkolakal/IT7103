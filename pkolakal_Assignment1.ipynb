{
  "nbformat": 4,
  "nbformat_minor": 0,
  "metadata": {
    "colab": {
      "provenance": [],
      "authorship_tag": "ABX9TyNq3saMqUNmNttfIMn6C6MR",
      "include_colab_link": true
    },
    "kernelspec": {
      "name": "python3",
      "display_name": "Python 3"
    },
    "language_info": {
      "name": "python"
    }
  },
  "cells": [
    {
      "cell_type": "markdown",
      "metadata": {
        "id": "view-in-github",
        "colab_type": "text"
      },
      "source": [
        "<a href=\"https://colab.research.google.com/github/pkolakal/IT7103/blob/main/pkolakal_Assignment1.ipynb\" target=\"_parent\"><img src=\"https://colab.research.google.com/assets/colab-badge.svg\" alt=\"Open In Colab\"/></a>"
      ]
    },
    {
      "cell_type": "code",
      "execution_count": 1,
      "metadata": {
        "colab": {
          "base_uri": "https://localhost:8080/"
        },
        "id": "wILKHIjeeSuJ",
        "outputId": "8b33089e-a7a0-445a-8fdf-75be708231e7"
      },
      "outputs": [
        {
          "output_type": "stream",
          "name": "stdout",
          "text": [
            "# pkolakal\n"
          ]
        }
      ],
      "source": [
        "print('# pkolakal')"
      ]
    },
    {
      "cell_type": "code",
      "source": [
        "print('# IT7103 Summer 2024')"
      ],
      "metadata": {
        "colab": {
          "base_uri": "https://localhost:8080/"
        },
        "id": "lYxt5Erneuon",
        "outputId": "36a948a0-77bf-40d1-b6d0-cb4de281635c"
      },
      "execution_count": null,
      "outputs": [
        {
          "output_type": "stream",
          "name": "stdout",
          "text": [
            "# IT7103 Summer 2024\n"
          ]
        }
      ]
    }
  ]
}